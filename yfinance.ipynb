{
  "nbformat": 4,
  "nbformat_minor": 0,
  "metadata": {
    "colab": {
      "name": "prophet_yfinance.ipynb",
      "provenance": [],
      "collapsed_sections": [],
      "include_colab_link": true
    },
    "kernelspec": {
      "name": "python3",
      "display_name": "Python 3"
    }
  },
  "cells": [
    {
      "cell_type": "markdown",
      "metadata": {
        "id": "view-in-github",
        "colab_type": "text"
      },
      "source": [
        "<a href=\"https://colab.research.google.com/github/dgnsaglam/Misc/blob/main/yfinance.ipynb\" target=\"_parent\"><img src=\"https://colab.research.google.com/assets/colab-badge.svg\" alt=\"Open In Colab\"/></a>"
      ]
    },
    {
      "cell_type": "markdown",
      "metadata": {
        "id": "t0TAYVmGpkW-"
      },
      "source": [
        "#### Install yfinance"
      ]
    },
    {
      "cell_type": "code",
      "metadata": {
        "id": "sxni-MFDpip3",
        "colab": {
          "base_uri": "https://localhost:8080/"
        },
        "outputId": "d4e4f96a-cdb7-4525-ebb6-654944c47480"
      },
      "source": [
        "!pip install yfinance"
      ],
      "execution_count": 2,
      "outputs": [
        {
          "output_type": "stream",
          "name": "stdout",
          "text": [
            "Looking in indexes: https://pypi.org/simple, https://us-python.pkg.dev/colab-wheels/public/simple/\n",
            "Collecting yfinance\n",
            "  Downloading yfinance-0.1.74-py2.py3-none-any.whl (27 kB)\n",
            "Requirement already satisfied: lxml>=4.5.1 in /usr/local/lib/python3.7/dist-packages (from yfinance) (4.9.1)\n",
            "Requirement already satisfied: pandas>=0.24.0 in /usr/local/lib/python3.7/dist-packages (from yfinance) (1.3.5)\n",
            "Collecting requests>=2.26\n",
            "  Downloading requests-2.28.1-py3-none-any.whl (62 kB)\n",
            "\u001b[K     |████████████████████████████████| 62 kB 1.2 MB/s \n",
            "\u001b[?25hRequirement already satisfied: multitasking>=0.0.7 in /usr/local/lib/python3.7/dist-packages (from yfinance) (0.0.11)\n",
            "Requirement already satisfied: numpy>=1.15 in /usr/local/lib/python3.7/dist-packages (from yfinance) (1.21.6)\n",
            "Requirement already satisfied: python-dateutil>=2.7.3 in /usr/local/lib/python3.7/dist-packages (from pandas>=0.24.0->yfinance) (2.8.2)\n",
            "Requirement already satisfied: pytz>=2017.3 in /usr/local/lib/python3.7/dist-packages (from pandas>=0.24.0->yfinance) (2022.1)\n",
            "Requirement already satisfied: six>=1.5 in /usr/local/lib/python3.7/dist-packages (from python-dateutil>=2.7.3->pandas>=0.24.0->yfinance) (1.15.0)\n",
            "Requirement already satisfied: urllib3<1.27,>=1.21.1 in /usr/local/lib/python3.7/dist-packages (from requests>=2.26->yfinance) (1.24.3)\n",
            "Requirement already satisfied: charset-normalizer<3,>=2 in /usr/local/lib/python3.7/dist-packages (from requests>=2.26->yfinance) (2.1.0)\n",
            "Requirement already satisfied: idna<4,>=2.5 in /usr/local/lib/python3.7/dist-packages (from requests>=2.26->yfinance) (2.10)\n",
            "Requirement already satisfied: certifi>=2017.4.17 in /usr/local/lib/python3.7/dist-packages (from requests>=2.26->yfinance) (2022.6.15)\n",
            "Installing collected packages: requests, yfinance\n",
            "  Attempting uninstall: requests\n",
            "    Found existing installation: requests 2.23.0\n",
            "    Uninstalling requests-2.23.0:\n",
            "      Successfully uninstalled requests-2.23.0\n",
            "Successfully installed requests-2.28.1 yfinance-0.1.74\n"
          ]
        }
      ]
    },
    {
      "cell_type": "markdown",
      "metadata": {
        "id": "9rCPxAQ_ppMA"
      },
      "source": [
        "# Forecasting Stocks from Yahoo Finance with Prophet"
      ]
    },
    {
      "cell_type": "code",
      "metadata": {
        "id": "22ISeYR-pVNF",
        "outputId": "5e1127b7-5052-4b85-e947-72218f92a48c",
        "colab": {
          "base_uri": "https://localhost:8080/",
          "height": 582
        }
      },
      "source": [
        "import yfinance as yf\n",
        "import pandas as pd\n",
        "import datetime\n",
        "import time\n",
        "\n",
        "startTime = datetime.datetime(2022, 7, 16) \n",
        "endDate = datetime.datetime(2022, 8, 15, 16) \n",
        "hist = pd.DataFrame()\n",
        "day = datetime.timedelta(days=1)\n",
        "while (startTime <= endDate) :\n",
        "  endTime = startTime + day\n",
        "  data = yf.download(tickers=\"GNRC\", start=startTime, end=endTime, interval=\"1m\")\n",
        "  print (len(data.index))\n",
        "  hist.append(data)\n",
        "  startTime += day\n",
        "  time.sleep(2)\n",
        "\n",
        "hist.head()"
      ],
      "execution_count": 14,
      "outputs": [
        {
          "output_type": "stream",
          "name": "stdout",
          "text": [
            "\r[*********************100%***********************]  1 of 1 completed\n",
            "\n",
            "1 Failed download:\n",
            "- GNRC: 1m data not available for startTime=1657929600 and endTime=1658016000. The requested range must be within the last 30 days.\n",
            "0\n",
            "[*********************100%***********************]  1 of 1 completed\n",
            "\n",
            "1 Failed download:\n",
            "- GNRC: No data found for this date range, symbol may be delisted\n",
            "0\n",
            "[*********************100%***********************]  1 of 1 completed\n",
            "355\n",
            "[*********************100%***********************]  1 of 1 completed\n",
            "349\n",
            "[*********************100%***********************]  1 of 1 completed\n",
            "376\n",
            "[*********************100%***********************]  1 of 1 completed\n",
            "347\n",
            "[*********************100%***********************]  1 of 1 completed\n",
            "373\n"
          ]
        },
        {
          "output_type": "error",
          "ename": "KeyboardInterrupt",
          "evalue": "ignored",
          "traceback": [
            "\u001b[0;31m---------------------------------------------------------------------------\u001b[0m",
            "\u001b[0;31mKeyboardInterrupt\u001b[0m                         Traceback (most recent call last)",
            "\u001b[0;32m<ipython-input-14-a29c5ea71c04>\u001b[0m in \u001b[0;36m<module>\u001b[0;34m\u001b[0m\n\u001b[1;32m     14\u001b[0m   \u001b[0mhist\u001b[0m\u001b[0;34m.\u001b[0m\u001b[0mappend\u001b[0m\u001b[0;34m(\u001b[0m\u001b[0mdata\u001b[0m\u001b[0;34m)\u001b[0m\u001b[0;34m\u001b[0m\u001b[0;34m\u001b[0m\u001b[0m\n\u001b[1;32m     15\u001b[0m   \u001b[0mstartTime\u001b[0m \u001b[0;34m+=\u001b[0m \u001b[0mday\u001b[0m\u001b[0;34m\u001b[0m\u001b[0;34m\u001b[0m\u001b[0m\n\u001b[0;32m---> 16\u001b[0;31m   \u001b[0mtime\u001b[0m\u001b[0;34m.\u001b[0m\u001b[0msleep\u001b[0m\u001b[0;34m(\u001b[0m\u001b[0;36m2\u001b[0m\u001b[0;34m)\u001b[0m\u001b[0;34m\u001b[0m\u001b[0;34m\u001b[0m\u001b[0m\n\u001b[0m\u001b[1;32m     17\u001b[0m \u001b[0;34m\u001b[0m\u001b[0m\n\u001b[1;32m     18\u001b[0m \u001b[0mhist\u001b[0m\u001b[0;34m.\u001b[0m\u001b[0mhead\u001b[0m\u001b[0;34m(\u001b[0m\u001b[0;34m)\u001b[0m\u001b[0;34m\u001b[0m\u001b[0;34m\u001b[0m\u001b[0m\n",
            "\u001b[0;31mKeyboardInterrupt\u001b[0m: "
          ]
        }
      ]
    },
    {
      "cell_type": "code",
      "source": [
        "hist.to_csv(\"GNRC Jul-Aug 2022.csv\", sep='\\t', encoding='utf-8')"
      ],
      "metadata": {
        "id": "keGMnOgn8WWI"
      },
      "execution_count": 10,
      "outputs": []
    },
    {
      "cell_type": "code",
      "source": [
        "from google.colab import files\n",
        "files.download(\"GNRC Jul-Aug 2022.csv\")"
      ],
      "metadata": {
        "id": "xYfWr9-r9A0A",
        "outputId": "ea3c13a8-7d0d-4bf5-b194-095d17a4f57b",
        "colab": {
          "base_uri": "https://localhost:8080/",
          "height": 17
        }
      },
      "execution_count": 11,
      "outputs": [
        {
          "output_type": "display_data",
          "data": {
            "text/plain": [
              "<IPython.core.display.Javascript object>"
            ],
            "application/javascript": [
              "\n",
              "    async function download(id, filename, size) {\n",
              "      if (!google.colab.kernel.accessAllowed) {\n",
              "        return;\n",
              "      }\n",
              "      const div = document.createElement('div');\n",
              "      const label = document.createElement('label');\n",
              "      label.textContent = `Downloading \"${filename}\": `;\n",
              "      div.appendChild(label);\n",
              "      const progress = document.createElement('progress');\n",
              "      progress.max = size;\n",
              "      div.appendChild(progress);\n",
              "      document.body.appendChild(div);\n",
              "\n",
              "      const buffers = [];\n",
              "      let downloaded = 0;\n",
              "\n",
              "      const channel = await google.colab.kernel.comms.open(id);\n",
              "      // Send a message to notify the kernel that we're ready.\n",
              "      channel.send({})\n",
              "\n",
              "      for await (const message of channel.messages) {\n",
              "        // Send a message to notify the kernel that we're ready.\n",
              "        channel.send({})\n",
              "        if (message.buffers) {\n",
              "          for (const buffer of message.buffers) {\n",
              "            buffers.push(buffer);\n",
              "            downloaded += buffer.byteLength;\n",
              "            progress.value = downloaded;\n",
              "          }\n",
              "        }\n",
              "      }\n",
              "      const blob = new Blob(buffers, {type: 'application/binary'});\n",
              "      const a = document.createElement('a');\n",
              "      a.href = window.URL.createObjectURL(blob);\n",
              "      a.download = filename;\n",
              "      div.appendChild(a);\n",
              "      a.click();\n",
              "      div.remove();\n",
              "    }\n",
              "  "
            ]
          },
          "metadata": {}
        },
        {
          "output_type": "display_data",
          "data": {
            "text/plain": [
              "<IPython.core.display.Javascript object>"
            ],
            "application/javascript": [
              "download(\"download_03d290ba-aa47-456e-9be6-4de1553248b9\", \"GNRC Stock Jul-Aug 2022.csv\", 3)"
            ]
          },
          "metadata": {}
        }
      ]
    },
    {
      "cell_type": "code",
      "metadata": {
        "id": "Ie5vxU0PzBqE"
      },
      "source": [
        "\n",
        "df = pd.DataFrame()\n",
        "\n",
        "df['ds'] = hist.index\n",
        "df['y'] = hist['Close'].values\n",
        "\n",
        "df.tail()"
      ],
      "execution_count": null,
      "outputs": []
    },
    {
      "cell_type": "code",
      "metadata": {
        "id": "Yjpcj72EnSjY"
      },
      "source": [
        "from fbprophet import Prophet\n",
        "\n",
        "m = Prophet(daily_seasonality=False)\n",
        "\n",
        "m.fit(df)"
      ],
      "execution_count": null,
      "outputs": []
    },
    {
      "cell_type": "code",
      "metadata": {
        "id": "leU4X6Q0zGP9"
      },
      "source": [
        "future = m.make_future_dataframe(365, freq='D')\n",
        "\n",
        "forecast = m.predict(future)\n",
        "\n",
        "forecast[['ds', 'yhat', 'yhat_lower', 'yhat_upper']].tail(7)"
      ],
      "execution_count": null,
      "outputs": []
    },
    {
      "cell_type": "code",
      "metadata": {
        "id": "NVHgp7eV36Jj"
      },
      "source": [
        "m.plot(forecast);"
      ],
      "execution_count": null,
      "outputs": []
    },
    {
      "cell_type": "markdown",
      "metadata": {
        "id": "FeaRgJzNwjsF"
      },
      "source": [
        "## Make it a Function"
      ]
    },
    {
      "cell_type": "code",
      "metadata": {
        "id": "jvn5DCZ8n-w7"
      },
      "source": [
        "def make_forecast(ticker, periods, hist='max'):\n",
        "    \"\"\"\n",
        "    forecast the given ticker (stock) period days into the future (from today)\n",
        "\n",
        "    inputs\n",
        "    ------\n",
        "    > ticker\n",
        "        >> ticker of stock to forecast\n",
        "    > periods\n",
        "        >> number of days into the future to forecast (from today's date)\n",
        "    > hist\n",
        "        >> amount of historical data to consider\n",
        "            > default: max\n",
        "            > options: 1d, 5d, 1mo, 3mo, 6mo, 1y, 2y, 5y, 10y, ytd, max\n",
        "    \"\"\"\n",
        "    # pull historical data from yahoo finance\n",
        "    stock_data = yf.Ticker(ticker)\n",
        "\n",
        "    hist_data = stock_data.history(hist, auto_adjust=True)\n",
        "\n",
        "    # create new dataframe to hold dates (ds) & adjusted closing prices (y)\n",
        "    df = pd.DataFrame()\n",
        "\n",
        "    df['ds'] = hist_data.index.values\n",
        "    df['y'] = hist_data['Close'].values\n",
        "\n",
        "    # create a Prophet model from that data\n",
        "    m = Prophet(daily_seasonality=False)\n",
        "    m.fit(df)\n",
        "\n",
        "    future = m.make_future_dataframe(periods, freq='D')\n",
        "\n",
        "    forecast = m.predict(future)\n",
        "\n",
        "    m.plot(forecast)\n",
        "\n",
        "    return forecast"
      ],
      "execution_count": null,
      "outputs": []
    },
    {
      "cell_type": "markdown",
      "metadata": {
        "id": "xx82iBA52KoL"
      },
      "source": [
        "#### Make some Forecasts with that Function"
      ]
    },
    {
      "cell_type": "code",
      "metadata": {
        "id": "vHdaXGg219xA"
      },
      "source": [
        "# kkr real estate finance trust\n",
        "make_forecast('KREF', 180)"
      ],
      "execution_count": null,
      "outputs": []
    },
    {
      "cell_type": "code",
      "metadata": {
        "id": "MQTfOuPzzI3s"
      },
      "source": [
        "# dave & buster's\n",
        "make_forecast('PLAY', 365 * 2).tail()"
      ],
      "execution_count": null,
      "outputs": []
    },
    {
      "cell_type": "code",
      "metadata": {
        "id": "JFcz6PRP2ZI4"
      },
      "source": [
        "n = 365  # set variable for number of days to predict\n",
        "\n",
        "# snapchat\n",
        "snap_forecast = make_forecast('SNAP', n)\n",
        "\n",
        "# only keep the future forecast, and forget most columns\n",
        "snap_forecast = snap_forecast[['ds', 'yhat', 'yhat_lower', 'yhat_upper']].tail(n)\n",
        "\n",
        "snap_forecast"
      ],
      "execution_count": null,
      "outputs": []
    }
  ]
}